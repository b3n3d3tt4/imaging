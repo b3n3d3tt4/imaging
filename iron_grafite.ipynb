{
 "cells": [
  {
   "cell_type": "code",
   "execution_count": 29,
   "metadata": {},
   "outputs": [
    {
     "data": {
      "text/plain": [
       "<module 'basicfunc' from 'c:\\\\Users\\\\Utente\\\\Desktop\\\\uni\\\\MAGISTRALE\\\\ESAMI\\\\laboratory1\\\\lab\\\\imaging\\\\basicfunc.py'>"
      ]
     },
     "execution_count": 29,
     "metadata": {},
     "output_type": "execute_result"
    }
   ],
   "source": [
    "import uproot \n",
    "import numpy as np\n",
    "import matplotlib.pyplot as plt\n",
    "from scipy.optimize import curve_fit\n",
    "from scipy.special import erfc\n",
    "from scipy.stats import norm\n",
    "import importlib\n",
    "# from mpl_toolkits.axes_grid1 import make_axes_locatable\n",
    "\n",
    "import pandas as pd\n",
    "import basicfunc as bbb\n",
    "\n",
    "importlib.reload(bbb)"
   ]
  },
  {
   "cell_type": "code",
   "execution_count": 30,
   "metadata": {},
   "outputs": [],
   "source": [
    "k = 2"
   ]
  },
  {
   "cell_type": "code",
   "execution_count": 31,
   "metadata": {},
   "outputs": [],
   "source": [
    "m2 = 1.38\n",
    "m3 = 4.49 \n",
    "m4 = 2.27\n",
    "m5 = 2.53\n",
    "m6 = 1.10\n",
    "m7 = 2.74\n",
    "m8 = 3.67\n",
    "\n",
    "q2 = 60.86\n",
    "q3 = 66.08\n",
    "q4 = 59.85\n",
    "q5 = 40.46\n",
    "q6 = 37.21\n",
    "q7 = 56.43\n",
    "q8 = 40.85"
   ]
  },
  {
   "cell_type": "code",
   "execution_count": 32,
   "metadata": {},
   "outputs": [],
   "source": [
    "grafite = uproot.open('run_11_graphite\\\\RAW\\\\DataR_run_11.root')"
   ]
  },
  {
   "cell_type": "code",
   "execution_count": 33,
   "metadata": {},
   "outputs": [],
   "source": [
    "energia = np.asarray(grafite['Data_R;1']['Energy'].array())\n",
    "canali = np.asarray(grafite['Data_R;1']['Channel'].array())\n",
    "digit = np.asarray(grafite['Data_R;1']['Board'].array())"
   ]
  },
  {
   "cell_type": "code",
   "execution_count": null,
   "metadata": {},
   "outputs": [],
   "source": [
    "grafite_d1 = energia[(digit == 0) & (canali == 0)]\n",
    "grafite_d2 = energia[(digit == 0) & (canali == 1)]\n",
    "grafite_d3 = energia[(digit == 0) & (canali == 2)]\n",
    "grafite_d4 = energia[(digit == 0) & (canali == 3)]\n",
    "grafite_d5 = energia[(digit == 1) & (canali == 0)]\n",
    "grafite_d6 = energia[(digit == 1) & (canali == 1)]\n",
    "grafite_d7 = energia[(digit == 1) & (canali == 2)]\n",
    "grafite_d8 = energia[(digit == 1) & (canali == 3)]\n",
    "\n",
    "# modo più figo di farlo è\n",
    "# grafite = {}\n",
    "# for d in range(2):  # digit può essere 0 o 1\n",
    "#     for c in range(4):  # canali può essere 0, 1, 2, 3\n",
    "#         grafite[f\"d{d+1}_c{c+1}\"] = energia[(digit == d) & (canali == c)]\n",
    "#\n",
    "# grafite_d1 = grafite[\"d1_c1\"]  # Energia per digit 0 e canale 0\n",
    "# ......\n",
    "# grafite_d8 = grafite[\"d2_c4\"]  # Energia per digit 1 e canale 3\n",
    "\n"
   ]
  },
  {
   "cell_type": "code",
   "execution_count": null,
   "metadata": {},
   "outputs": [],
   "source": [
    "gr_d2_calib = grafite_d1*m2+q2\n",
    "gr_d2_def = gr_d2_calib[gr_d2_calib != 0]\n",
    "\n",
    "gr_d3_calib = grafite_d3 * m2 + q2\n",
    "gr_d3_def = gr_d3_calib[gr_d3_calib != 0]\n",
    "\n",
    "gr_d4_calib = grafite_d4 * m2 + q2\n",
    "gr_d4_def = gr_d4_calib[gr_d4_calib != 0]\n",
    "\n",
    "gr_d5_calib = grafite_d5 * m2 + q2\n",
    "gr_d5_def = gr_d5_calib[gr_d5_calib != 0]\n",
    "\n",
    "gr_d6_calib = grafite_d6 * m2 + q2\n",
    "gr_d6_def = gr_d6_calib[gr_d6_calib != 0]\n",
    "\n",
    "gr_d7_calib = grafite_d7 * m2 + q2\n",
    "gr_d7_def = gr_d7_calib[gr_d7_calib != 0]\n",
    "\n",
    "gr_d8_calib = grafite_d8 * m2 + q2\n",
    "gr_d8_def = gr_d8_calib[gr_d8_calib != 0]\n"
   ]
  }
 ],
 "metadata": {
  "kernelspec": {
   "display_name": "Python 3",
   "language": "python",
   "name": "python3"
  },
  "language_info": {
   "codemirror_mode": {
    "name": "ipython",
    "version": 3
   },
   "file_extension": ".py",
   "mimetype": "text/x-python",
   "name": "python",
   "nbconvert_exporter": "python",
   "pygments_lexer": "ipython3",
   "version": "3.13.0"
  }
 },
 "nbformat": 4,
 "nbformat_minor": 2
}
